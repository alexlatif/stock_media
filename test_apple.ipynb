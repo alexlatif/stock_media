{
 "cells": [
  {
   "cell_type": "code",
   "execution_count": 81,
   "metadata": {},
   "outputs": [],
   "source": [
    "import pandas as pd\n",
    "import json\n",
    "import matplotlib.pyplot as plt\n",
    "import seaborn as sns"
   ]
  },
  {
   "cell_type": "code",
   "execution_count": 30,
   "metadata": {},
   "outputs": [],
   "source": [
    "dfd = pd.read_csv(\"apple_stock.csv\", sep=',')"
   ]
  },
  {
   "cell_type": "code",
   "execution_count": 31,
   "metadata": {},
   "outputs": [
    {
     "data": {
      "text/html": [
       "<div>\n",
       "<style scoped>\n",
       "    .dataframe tbody tr th:only-of-type {\n",
       "        vertical-align: middle;\n",
       "    }\n",
       "\n",
       "    .dataframe tbody tr th {\n",
       "        vertical-align: top;\n",
       "    }\n",
       "\n",
       "    .dataframe thead th {\n",
       "        text-align: right;\n",
       "    }\n",
       "</style>\n",
       "<table border=\"1\" class=\"dataframe\">\n",
       "  <thead>\n",
       "    <tr style=\"text-align: right;\">\n",
       "      <th></th>\n",
       "      <th>Unnamed: 0</th>\n",
       "      <th>symbol</th>\n",
       "      <th>historical</th>\n",
       "    </tr>\n",
       "  </thead>\n",
       "  <tbody>\n",
       "    <tr>\n",
       "      <th>0</th>\n",
       "      <td>0</td>\n",
       "      <td>AAPL</td>\n",
       "      <td>{'date': '2020-07-02', 'open': 367.85, 'high':...</td>\n",
       "    </tr>\n",
       "    <tr>\n",
       "      <th>1</th>\n",
       "      <td>1</td>\n",
       "      <td>AAPL</td>\n",
       "      <td>{'date': '2020-07-01', 'open': 365.12, 'high':...</td>\n",
       "    </tr>\n",
       "    <tr>\n",
       "      <th>2</th>\n",
       "      <td>2</td>\n",
       "      <td>AAPL</td>\n",
       "      <td>{'date': '2020-06-30', 'open': 360.08, 'high':...</td>\n",
       "    </tr>\n",
       "    <tr>\n",
       "      <th>3</th>\n",
       "      <td>3</td>\n",
       "      <td>AAPL</td>\n",
       "      <td>{'date': '2020-06-29', 'open': 353.25, 'high':...</td>\n",
       "    </tr>\n",
       "    <tr>\n",
       "      <th>4</th>\n",
       "      <td>4</td>\n",
       "      <td>AAPL</td>\n",
       "      <td>{'date': '2020-06-26', 'open': 364.41, 'high':...</td>\n",
       "    </tr>\n",
       "  </tbody>\n",
       "</table>\n",
       "</div>"
      ],
      "text/plain": [
       "   Unnamed: 0 symbol                                         historical\n",
       "0           0   AAPL  {'date': '2020-07-02', 'open': 367.85, 'high':...\n",
       "1           1   AAPL  {'date': '2020-07-01', 'open': 365.12, 'high':...\n",
       "2           2   AAPL  {'date': '2020-06-30', 'open': 360.08, 'high':...\n",
       "3           3   AAPL  {'date': '2020-06-29', 'open': 353.25, 'high':...\n",
       "4           4   AAPL  {'date': '2020-06-26', 'open': 364.41, 'high':..."
      ]
     },
     "execution_count": 31,
     "metadata": {},
     "output_type": "execute_result"
    }
   ],
   "source": [
    "dfd.head()"
   ]
  },
  {
   "cell_type": "code",
   "execution_count": 32,
   "metadata": {},
   "outputs": [
    {
     "data": {
      "text/html": [
       "<div>\n",
       "<style scoped>\n",
       "    .dataframe tbody tr th:only-of-type {\n",
       "        vertical-align: middle;\n",
       "    }\n",
       "\n",
       "    .dataframe tbody tr th {\n",
       "        vertical-align: top;\n",
       "    }\n",
       "\n",
       "    .dataframe thead th {\n",
       "        text-align: right;\n",
       "    }\n",
       "</style>\n",
       "<table border=\"1\" class=\"dataframe\">\n",
       "  <thead>\n",
       "    <tr style=\"text-align: right;\">\n",
       "      <th></th>\n",
       "      <th>Unnamed: 0</th>\n",
       "      <th>symbol</th>\n",
       "      <th>historical</th>\n",
       "    </tr>\n",
       "  </thead>\n",
       "  <tbody>\n",
       "    <tr>\n",
       "      <th>1254</th>\n",
       "      <td>1254</td>\n",
       "      <td>AAPL</td>\n",
       "      <td>{'date': '2015-07-10', 'open': 121.94, 'high':...</td>\n",
       "    </tr>\n",
       "    <tr>\n",
       "      <th>1255</th>\n",
       "      <td>1255</td>\n",
       "      <td>AAPL</td>\n",
       "      <td>{'date': '2015-07-09', 'open': 123.85, 'high':...</td>\n",
       "    </tr>\n",
       "    <tr>\n",
       "      <th>1256</th>\n",
       "      <td>1256</td>\n",
       "      <td>AAPL</td>\n",
       "      <td>{'date': '2015-07-08', 'open': 124.48, 'high':...</td>\n",
       "    </tr>\n",
       "    <tr>\n",
       "      <th>1257</th>\n",
       "      <td>1257</td>\n",
       "      <td>AAPL</td>\n",
       "      <td>{'date': '2015-07-07', 'open': 125.89, 'high':...</td>\n",
       "    </tr>\n",
       "    <tr>\n",
       "      <th>1258</th>\n",
       "      <td>1258</td>\n",
       "      <td>AAPL</td>\n",
       "      <td>{'date': '2015-07-06', 'open': 124.94, 'high':...</td>\n",
       "    </tr>\n",
       "  </tbody>\n",
       "</table>\n",
       "</div>"
      ],
      "text/plain": [
       "      Unnamed: 0 symbol                                         historical\n",
       "1254        1254   AAPL  {'date': '2015-07-10', 'open': 121.94, 'high':...\n",
       "1255        1255   AAPL  {'date': '2015-07-09', 'open': 123.85, 'high':...\n",
       "1256        1256   AAPL  {'date': '2015-07-08', 'open': 124.48, 'high':...\n",
       "1257        1257   AAPL  {'date': '2015-07-07', 'open': 125.89, 'high':...\n",
       "1258        1258   AAPL  {'date': '2015-07-06', 'open': 124.94, 'high':..."
      ]
     },
     "execution_count": 32,
     "metadata": {},
     "output_type": "execute_result"
    }
   ],
   "source": [
    "dfd.tail()"
   ]
  },
  {
   "cell_type": "code",
   "execution_count": 70,
   "metadata": {},
   "outputs": [
    {
     "data": {
      "text/plain": [
       "{'date': '2020-07-02',\n",
       " 'open': 367.85,\n",
       " 'high': 370.47,\n",
       " 'low': 363.71,\n",
       " 'close': 364.11,\n",
       " 'adjClose': 364.11,\n",
       " 'volume': 28510367.0,\n",
       " 'unadjustedVolume': 28510367.0,\n",
       " 'change': -3.74,\n",
       " 'changePercent': -1.017,\n",
       " 'vwap': 366.09667,\n",
       " 'label': 'July 02, 20',\n",
       " 'changeOverTime': -0.01017}"
      ]
     },
     "execution_count": 70,
     "metadata": {},
     "output_type": "execute_result"
    }
   ],
   "source": [
    "eval(dfd['historical'][0])"
   ]
  },
  {
   "cell_type": "code",
   "execution_count": 71,
   "metadata": {},
   "outputs": [],
   "source": [
    "columns = ['TIMESTAMP','CHANGE', 'HIGH', 'LOW', 'OPEN', 'PRICE', 'VOLUME']\n",
    "data = {\n",
    "    'TIMESTAMP': [],\n",
    "    'CHANGE': [],\n",
    "    'HIGH': [],\n",
    "    'LOW': [],\n",
    "    'OPEN': [],\n",
    "    'PRICE': [],\n",
    "    'VOLUME': []\n",
    "}\n",
    "\n",
    "for i in dfd['historical']:\n",
    "    data['TIMESTAMP'].append(eval(i)['date'])\n",
    "    data['CHANGE'].append(eval(i)['changePercent'])\n",
    "    data['HIGH'].append(eval(i)['high'])\n",
    "    data['LOW'].append(eval(i)['low'])\n",
    "    data['OPEN'].append(eval(i)['open'])\n",
    "    data['PRICE'].append(eval(i)['close'])\n",
    "    data['VOLUME'].append(eval(i)['volume'])\n",
    "    \n",
    "df = pd.DataFrame(data=data, columns=columns)"
   ]
  },
  {
   "cell_type": "code",
   "execution_count": 72,
   "metadata": {},
   "outputs": [],
   "source": [
    "df['TIMESTAMP'] = pd.to_datetime(df['TIMESTAMP'])"
   ]
  },
  {
   "cell_type": "code",
   "execution_count": 73,
   "metadata": {},
   "outputs": [],
   "source": [
    "df = df.set_index('TIMESTAMP')"
   ]
  },
  {
   "cell_type": "code",
   "execution_count": 78,
   "metadata": {},
   "outputs": [
    {
     "data": {
      "image/png": "[encoded data removed]",
      "text/plain": [
       "<Figure size 432x288 with 1 Axes>"
      ]
     },
     "metadata": {
      "needs_background": "light"
     },
     "output_type": "display_data"
    }
   ],
   "source": [
    "plt.plot(df.PRICE)\n",
    "plt.show()"
   ]
  },
  {
   "cell_type": "code",
   "execution_count": 79,
   "metadata": {},
   "outputs": [
    {
     "data": {
      "image/png": "[encoded data removed]",
      "text/plain": [
       "<Figure size 432x288 with 1 Axes>"
      ]
     },
     "metadata": {
      "needs_background": "light"
     },
     "output_type": "display_data"
    }
   ],
   "source": [
    "plt.plot(df.CHANGE)\n",
    "plt.show()"
   ]
  },
  {
   "cell_type": "code",
   "execution_count": 83,
   "metadata": {},
   "outputs": [
    {
     "data": {
      "text/plain": [
       "<matplotlib.axes._subplots.AxesSubplot at 0x7f839c9c4f70>"
      ]
     },
     "execution_count": 83,
     "metadata": {},
     "output_type": "execute_result"
    },
    {
     "data": {
      "image/png": "[encoded data removed]",
      "text/plain": [
       "<Figure size 432x288 with 1 Axes>"
      ]
     },
     "metadata": {
      "needs_background": "light"
     },
     "output_type": "display_data"
    }
   ],
   "source": [
    "sns.distplot(df.CHANGE)"
   ]
  },
  {
   "cell_type": "code",
   "execution_count": null,
   "metadata": {},
   "outputs": [],
   "source": []
  }
 ],
 "metadata": {
  "kernelspec": {
   "display_name": "Python 3.8.0 64-bit",
   "language": "python",
   "name": "python38064bit22053ab134064b32b07046f14a746853"
  },
  "language_info": {
   "codemirror_mode": {
    "name": "ipython",
    "version": 3
   },
   "file_extension": ".py",
   "mimetype": "text/x-python",
   "name": "python",
   "nbconvert_exporter": "python",
   "pygments_lexer": "ipython3",
   "version": "3.8.0"
  }
 },
 "nbformat": 4,
 "nbformat_minor": 4
}
